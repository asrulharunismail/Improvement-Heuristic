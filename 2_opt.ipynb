{
  "nbformat": 4,
  "nbformat_minor": 0,
  "metadata": {
    "colab": {
      "name": "2 opt.ipynb",
      "provenance": [],
      "include_colab_link": true
    },
    "kernelspec": {
      "name": "python3",
      "display_name": "Python 3"
    }
  },
  "cells": [
    {
      "cell_type": "markdown",
      "metadata": {
        "id": "view-in-github",
        "colab_type": "text"
      },
      "source": [
        "<a href=\"https://colab.research.google.com/github/asrulharunismail/Improvement-Heuristic/blob/main/2_opt.ipynb\" target=\"_parent\"><img src=\"https://colab.research.google.com/assets/colab-badge.svg\" alt=\"Open In Colab\"/></a>"
      ]
    },
    {
      "cell_type": "code",
      "metadata": {
        "id": "NSiL-_u-rdxM"
      },
      "source": [
        "import numpy as np\n",
        "\n",
        "class Model:\n",
        "    def __init__(self,x,y):\n",
        "        self.x = x\n",
        "        self.y = y\n",
        "        self.n = len(x)\n",
        "    def Dis (self):\n",
        "        n = self.n\n",
        "        D = []\n",
        "        for i in range (n):\n",
        "            for j in range (n):\n",
        "                D.append(round(np.sqrt((x[i] - x[j]) ** 2 + (y[i] - y[j]) ** 2)))\n",
        "        D=np.array(D)\n",
        "        D=D.reshape(n,n)\n",
        "        return D"
      ],
      "execution_count": null,
      "outputs": []
    },
    {
      "cell_type": "code",
      "metadata": {
        "id": "4MQiWgjYs9Pl"
      },
      "source": [
        "Prob = 'Eil51'\n",
        "x = [37, 49, 52, 20, 40, 21, 17, 31, 52, 51, 42, 31, 5, 12, 36, 52, 27, 17, 13, 57, 62, 42, 16, 8, 7, 27, 30, 43, 58, 58, 37, 38, 46, 61, 62, 63, 32, 45, 59, 5, 10, 21, 5, 30, 39, 32, 25, 25, 48, 56, 30]\n",
        "y = [52, 49, 64, 26, 30, 47, 63, 62, 33, 21, 41, 32, 25, 42, 16, 41, 23, 33, 13, 58, 42, 57, 57, 52, 38, 68, 48, 67, 48, 27, 69, 46, 10, 33, 63, 69, 22, 35, 15, 6, 17, 10, 64, 15, 10, 39, 32, 55, 28, 37, 40]\n",
        "BKS = 426\n",
        "Eil51 = Model(x,y)\n",
        "D=Eil51.Dis()\n",
        "n=Eil51.n\n",
        "Probx = Eil51.x\n",
        "Proby = Eil51.y"
      ],
      "execution_count": null,
      "outputs": []
    },
    {
      "cell_type": "code",
      "metadata": {
        "id": "Shk3gSW_tZog"
      },
      "source": [
        "def Cost (tour,D):\n",
        "    L=0\n",
        "    for i in range (len(tour)):\n",
        "        if i< len(tour)-1:\n",
        "          L += D[tour[i],tour[i+1]]\n",
        "        else:\n",
        "          L += D[tour[i],tour[0]]\n",
        "    return L"
      ],
      "execution_count": null,
      "outputs": []
    },
    {
      "cell_type": "code",
      "metadata": {
        "id": "MZOdV1NFuIlY"
      },
      "source": [
        "def TwoOpt (tour, D):\n",
        "    n = len(tour)\n",
        "    Zmin = -1\n",
        "    \n",
        "    while Zmin < 0 :\n",
        "        Zmin = 0\n",
        "        i=-1\n",
        "        b=tour[-1]\n",
        "        \n",
        "        while i < n-3:\n",
        "            a = b\n",
        "            i += 1\n",
        "            b = tour[i]\n",
        "            Dab = D[a,b]\n",
        "            j = i +1\n",
        "            d = tour[j]\n",
        "            \n",
        "            while j < n-1:\n",
        "                c = d\n",
        "                j += 1\n",
        "                d = tour[j]\n",
        "                \n",
        "                Z = (D[a,c]-D[c,d]) + D[b,d] - Dab\n",
        "                \n",
        "                if Z < Zmin:\n",
        "                    Zmin = Z\n",
        "                    imin = i\n",
        "                    jmin = j\n",
        "                    \n",
        "        if Zmin < 0:\n",
        "            #temp = tour\n",
        "            #tuple(temp)\n",
        "            #y=tour[imin:jmin]\n",
        "            #y=y[::-1]\n",
        "            #tour=temp\n",
        "            #tour=np.array(tour)\n",
        "            #for i in range(imin,jmin):\n",
        "            #    tour[i]=y[i-imin]\n",
        "            tour=list(tour)\n",
        "            tour[imin:jmin:1]= reversed(tour[imin:jmin:1])\n",
        "    return tour"
      ],
      "execution_count": null,
      "outputs": []
    },
    {
      "cell_type": "code",
      "metadata": {
        "id": "yVtMhfIeEGew",
        "outputId": "90276a23-d8aa-464b-dae4-50e943c337fa",
        "colab": {
          "base_uri": "https://localhost:8080/"
        }
      },
      "source": [
        "tour = np.random.permutation(51)\n",
        "#tour = list (tour)             \n",
        "TOUR = TwoOpt(tour,D)\n",
        "print (TOUR)\n",
        "COST = Cost(TOUR,D)\n",
        "#print (TOUR)\n",
        "print (COST)"
      ],
      "execution_count": null,
      "outputs": [
        {
          "output_type": "stream",
          "text": [
            "[22, 6, 42, 23, 13, 24, 17, 12, 40, 18, 39, 41, 16, 3, 46, 11, 45, 50, 5, 26, 0, 21, 1, 31, 10, 37, 4, 48, 8, 29, 9, 14, 36, 43, 44, 32, 38, 33, 49, 15, 20, 28, 19, 34, 35, 2, 27, 30, 25, 7, 47]\n",
            "459.0\n"
          ],
          "name": "stdout"
        }
      ]
    }
  ]
}